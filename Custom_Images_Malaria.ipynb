{
  "nbformat": 4,
  "nbformat_minor": 0,
  "metadata": {
    "kernelspec": {
      "display_name": "Python 3",
      "language": "python",
      "name": "python3"
    },
    "language_info": {
      "codemirror_mode": {
        "name": "ipython",
        "version": 3
      },
      "file_extension": ".py",
      "mimetype": "text/x-python",
      "name": "python",
      "nbconvert_exporter": "python",
      "pygments_lexer": "ipython3",
      "version": "3.7.1"
    },
    "colab": {
      "name": "03-Deep-Learning-Custom-Images-Malaria.ipynb",
      "provenance": []
    }
  },
  "cells": [
    {
      "cell_type": "code",
      "metadata": {
        "id": "zfAte04UBkhT"
      },
      "source": [
        "import os\n",
        "import pandas as pd\n",
        "import numpy as np\n",
        "import seaborn as sns\n",
        "import matplotlib.pyplot as plt\n",
        "from matplotlib.image import imread\n",
        "# Technically not necessary in newest versions of jupyter\n",
        "%matplotlib inline"
      ],
      "execution_count": null,
      "outputs": []
    },
    {
      "cell_type": "code",
      "metadata": {
        "id": "uwPpEm-BBkh9"
      },
      "source": [
        "my_data_dir = 'C:/Users/Amir/Desktop/AI Institute Classes/Deep Learning/TF_2_Notebooks_and_Data/04-CNNs/cell_images'"
      ],
      "execution_count": null,
      "outputs": []
    },
    {
      "cell_type": "code",
      "metadata": {
        "id": "sGvNJb3gBkiC",
        "outputId": "b45d6fcb-9e82-4698-8f21-5b6908a7717c"
      },
      "source": [
        "# CONFIRM THAT THIS REPORTS BACK 'test', and 'train'\n",
        "os.listdir(my_data_dir) "
      ],
      "execution_count": null,
      "outputs": [
        {
          "output_type": "execute_result",
          "data": {
            "text/plain": [
              "['test', 'train']"
            ]
          },
          "metadata": {
            "tags": []
          },
          "execution_count": 5
        }
      ]
    },
    {
      "cell_type": "code",
      "metadata": {
        "id": "w4n36eaMBkiI"
      },
      "source": [
        "test_path = my_data_dir+'\\\\test\\\\'\n",
        "train_path = my_data_dir+'\\\\train\\\\'"
      ],
      "execution_count": null,
      "outputs": []
    },
    {
      "cell_type": "code",
      "metadata": {
        "id": "Gl4x4UrQBkiK",
        "outputId": "e564f42c-293e-477d-c88f-5c40a2a12052"
      },
      "source": [
        "os.listdir(test_path)"
      ],
      "execution_count": null,
      "outputs": [
        {
          "output_type": "execute_result",
          "data": {
            "text/plain": [
              "['parasitized', 'uninfected']"
            ]
          },
          "metadata": {
            "tags": []
          },
          "execution_count": 7
        }
      ]
    },
    {
      "cell_type": "code",
      "metadata": {
        "id": "l1pUn5aIBkiL",
        "outputId": "e6e90011-d1c8-46ac-cdd1-b3dbb67ba8e2"
      },
      "source": [
        "os.listdir(train_path)"
      ],
      "execution_count": null,
      "outputs": [
        {
          "output_type": "execute_result",
          "data": {
            "text/plain": [
              "['parasitized', 'uninfected']"
            ]
          },
          "metadata": {
            "tags": []
          },
          "execution_count": 8
        }
      ]
    },
    {
      "cell_type": "code",
      "metadata": {
        "id": "0pLfEOB2BkiO",
        "outputId": "40a3c61f-9706-43f7-f1ce-bfd8e45601b3"
      },
      "source": [
        "os.listdir(train_path+'\\\\parasitized')[0]"
      ],
      "execution_count": null,
      "outputs": [
        {
          "output_type": "execute_result",
          "data": {
            "text/plain": [
              "'C100P61ThinF_IMG_20150918_144104_cell_162.png'"
            ]
          },
          "metadata": {
            "tags": []
          },
          "execution_count": 9
        }
      ]
    },
    {
      "cell_type": "code",
      "metadata": {
        "id": "vIRhU7gWBkiP"
      },
      "source": [
        "para_cell = train_path+'\\\\parasitized'+'\\\\C100P61ThinF_IMG_20150918_144104_cell_162.png'"
      ],
      "execution_count": null,
      "outputs": []
    },
    {
      "cell_type": "code",
      "metadata": {
        "id": "sIzl8CiPBkiQ"
      },
      "source": [
        "para_img= imread(para_cell)"
      ],
      "execution_count": null,
      "outputs": []
    },
    {
      "cell_type": "code",
      "metadata": {
        "id": "w9bG5dZ0BkiR",
        "outputId": "5369300d-74b2-4680-8ddf-92c3331b21b2"
      },
      "source": [
        "plt.imshow(para_img)"
      ],
      "execution_count": null,
      "outputs": [
        {
          "output_type": "execute_result",
          "data": {
            "text/plain": [
              "<matplotlib.image.AxesImage at 0x1306e2b86d8>"
            ]
          },
          "metadata": {
            "tags": []
          },
          "execution_count": 12
        },
        {
          "output_type": "display_data",
          "data": {
            "image/png": "[encoded data removed]",
            "text/plain": [
              "<Figure size 432x288 with 1 Axes>"
            ]
          },
          "metadata": {
            "tags": [],
            "needs_background": "light"
          }
        }
      ]
    },
    {
      "cell_type": "code",
      "metadata": {
        "id": "XY7ySkcjBkiS",
        "outputId": "96577cb3-37c2-4bc8-8042-3578554f1d17"
      },
      "source": [
        "para_img.shape"
      ],
      "execution_count": null,
      "outputs": [
        {
          "output_type": "execute_result",
          "data": {
            "text/plain": [
              "(148, 142, 3)"
            ]
          },
          "metadata": {
            "tags": []
          },
          "execution_count": 13
        }
      ]
    },
    {
      "cell_type": "code",
      "metadata": {
        "id": "FkHn7dtjBkiT",
        "outputId": "fa5a45db-09e3-47e8-ffff-cb9fd1147802"
      },
      "source": [
        "unifected_cell_path = train_path+'\\\\uninfected\\\\'+os.listdir(train_path+'\\\\uninfected')[0]\n",
        "unifected_cell = imread(unifected_cell_path)\n",
        "plt.imshow(unifected_cell)"
      ],
      "execution_count": null,
      "outputs": [
        {
          "output_type": "execute_result",
          "data": {
            "text/plain": [
              "<matplotlib.image.AxesImage at 0x1306e357978>"
            ]
          },
          "metadata": {
            "tags": []
          },
          "execution_count": 14
        },
        {
          "output_type": "display_data",
          "data": {
            "image/png": "[encoded data removed]",
            "text/plain": [
              "<Figure size 432x288 with 1 Axes>"
            ]
          },
          "metadata": {
            "tags": [],
            "needs_background": "light"
          }
        }
      ]
    },
    {
      "cell_type": "markdown",
      "metadata": {
        "id": "D3yiZp5tBkiU"
      },
      "source": [
        "**Let's check how many images there are.**"
      ]
    },
    {
      "cell_type": "code",
      "metadata": {
        "id": "Q18lAog6BkiV",
        "outputId": "276c7b84-d731-4925-b9ce-7120c003e08e"
      },
      "source": [
        "len(os.listdir(train_path+'\\\\parasitized'))"
      ],
      "execution_count": null,
      "outputs": [
        {
          "output_type": "execute_result",
          "data": {
            "text/plain": [
              "12480"
            ]
          },
          "metadata": {
            "tags": []
          },
          "execution_count": 15
        }
      ]
    },
    {
      "cell_type": "code",
      "metadata": {
        "id": "YfngD8UmBkiW",
        "outputId": "449809af-6d34-48f6-ab40-ee2bbff9ef84"
      },
      "source": [
        "len(os.listdir(train_path+'\\\\uninfected'))"
      ],
      "execution_count": null,
      "outputs": [
        {
          "output_type": "execute_result",
          "data": {
            "text/plain": [
              "12480"
            ]
          },
          "metadata": {
            "tags": []
          },
          "execution_count": 16
        }
      ]
    },
    {
      "cell_type": "markdown",
      "metadata": {
        "id": "eQfcZ8L6BkiX"
      },
      "source": [
        "**Let's find out the average dimensions of these images.** In real images, all the images always are not in a same shape, thats why we need to take an average to resize our images"
      ]
    },
    {
      "cell_type": "code",
      "metadata": {
        "id": "MRHyO4AWBkiY",
        "outputId": "f1c69b9f-a3c4-41a0-996b-e2ca05ebc2c4"
      },
      "source": [
        "unifected_cell.shape"
      ],
      "execution_count": null,
      "outputs": [
        {
          "output_type": "execute_result",
          "data": {
            "text/plain": [
              "(139, 160, 3)"
            ]
          },
          "metadata": {
            "tags": []
          },
          "execution_count": 24
        }
      ]
    },
    {
      "cell_type": "code",
      "metadata": {
        "id": "gvlgWHGmBkiZ",
        "outputId": "95a75e74-ea13-45fb-fef7-a2b5d4e282e1"
      },
      "source": [
        "para_img.shape"
      ],
      "execution_count": null,
      "outputs": [
        {
          "output_type": "execute_result",
          "data": {
            "text/plain": [
              "(148, 142, 3)"
            ]
          },
          "metadata": {
            "tags": []
          },
          "execution_count": 25
        }
      ]
    },
    {
      "cell_type": "code",
      "metadata": {
        "id": "6Yk7k5iDBkia"
      },
      "source": [
        "# Other options: https://stackoverflow.com/questions/1507084/how-to-check-dimensions-of-all-images-in-a-directory-using-python\n",
        "dim1 = []\n",
        "dim2 = []\n",
        "for image_filename in os.listdir(test_path+'\\\\uninfected'):\n",
        "    \n",
        "    img = imread(test_path+'\\\\uninfected'+'\\\\'+image_filename)\n",
        "    d1,d2,colors = img.shape\n",
        "    dim1.append(d1)\n",
        "    dim2.append(d2)"
      ],
      "execution_count": null,
      "outputs": []
    },
    {
      "cell_type": "code",
      "metadata": {
        "id": "O0aIamVHBkia",
        "outputId": "991feb89-a53d-4cd6-9265-e6e2275435c6"
      },
      "source": [
        "sns.jointplot(dim1,dim2)"
      ],
      "execution_count": null,
      "outputs": [
        {
          "output_type": "execute_result",
          "data": {
            "text/plain": [
              "<seaborn.axisgrid.JointGrid at 0x1306e659ba8>"
            ]
          },
          "metadata": {
            "tags": []
          },
          "execution_count": 35
        },
        {
          "output_type": "display_data",
          "data": {
            "image/png": "[encoded data removed]",
            "text/plain": [
              "<Figure size 432x432 with 3 Axes>"
            ]
          },
          "metadata": {
            "tags": [],
            "needs_background": "light"
          }
        }
      ]
    },
    {
      "cell_type": "code",
      "metadata": {
        "id": "b1-9fq_8Bkib",
        "outputId": "0fc74d19-74ac-4c5a-85dd-e98409033491"
      },
      "source": [
        "dim1"
      ],
      "execution_count": null,
      "outputs": [
        {
          "output_type": "execute_result",
          "data": {
            "text/plain": [
              "[118,\n",
              " 172,\n",
              " 130,\n",
              " 163,\n",
              " 172,\n",
              " 139,\n",
              " 151,\n",
              " 160,\n",
              " 145,\n",
              " 127,\n",
              " 121,\n",
              " 154,\n",
              " 145,\n",
              " 127,\n",
              " 154,\n",
              " 151,\n",
              " 148,\n",
              " 130,\n",
              " 160,\n",
              " 136,\n",
              " 139,\n",
              " 190,\n",
              " 127,\n",
              " 133,\n",
              " 136,\n",
              " 124,\n",
              " 151,\n",
              " 151,\n",
              " 151,\n",
              " 160,\n",
              " 118,\n",
              " 154,\n",
              " 154,\n",
              " 121,\n",
              " 127,\n",
              " 118,\n",
              " 130,\n",
              " 124,\n",
              " 163,\n",
              " 88,\n",
              " 139,\n",
              " 127,\n",
              " 121,\n",
              " 139,\n",
              " 166,\n",
              " 133,\n",
              " 124,\n",
              " 154,\n",
              " 139,\n",
              " 127,\n",
              " 124,\n",
              " 136,\n",
              " 166,\n",
              " 133,\n",
              " 145,\n",
              " 157,\n",
              " 181,\n",
              " 148,\n",
              " 112,\n",
              " 124,\n",
              " 112,\n",
              " 106,\n",
              " 121,\n",
              " 148,\n",
              " 148,\n",
              " 112,\n",
              " 121,\n",
              " 148,\n",
              " 97,\n",
              " 112,\n",
              " 142,\n",
              " 118,\n",
              " 130,\n",
              " 151,\n",
              " 133,\n",
              " 136,\n",
              " 115,\n",
              " 145,\n",
              " 115,\n",
              " 142,\n",
              " 136,\n",
              " 130,\n",
              " 142,\n",
              " 124,\n",
              " 142,\n",
              " 136,\n",
              " 166,\n",
              " 148,\n",
              " 136,\n",
              " 142,\n",
              " 133,\n",
              " 130,\n",
              " 139,\n",
              " 124,\n",
              " 139,\n",
              " 121,\n",
              " 130,\n",
              " 142,\n",
              " 133,\n",
              " 118,\n",
              " 157,\n",
              " 127,\n",
              " 109,\n",
              " 112,\n",
              " 139,\n",
              " 142,\n",
              " 142,\n",
              " 112,\n",
              " 118,\n",
              " 100,\n",
              " 127,\n",
              " 145,\n",
              " 136,\n",
              " 160,\n",
              " 187,\n",
              " 130,\n",
              " 130,\n",
              " 157,\n",
              " 130,\n",
              " 130,\n",
              " 151,\n",
              " 175,\n",
              " 145,\n",
              " 136,\n",
              " 157,\n",
              " 133,\n",
              " 127,\n",
              " 154,\n",
              " 133,\n",
              " 151,\n",
              " 130,\n",
              " 136,\n",
              " 160,\n",
              " 130,\n",
              " 139,\n",
              " 145,\n",
              " 145,\n",
              " 145,\n",
              " 154,\n",
              " 133,\n",
              " 160,\n",
              " 142,\n",
              " 157,\n",
              " 145,\n",
              " 136,\n",
              " 121,\n",
              " 115,\n",
              " 121,\n",
              " 121,\n",
              " 127,\n",
              " 145,\n",
              " 130,\n",
              " 133,\n",
              " 142,\n",
              " 127,\n",
              " 121,\n",
              " 139,\n",
              " 118,\n",
              " 118,\n",
              " 148,\n",
              " 121,\n",
              " 145,\n",
              " 130,\n",
              " 169,\n",
              " 142,\n",
              " 136,\n",
              " 148,\n",
              " 142,\n",
              " 169,\n",
              " 115,\n",
              " 109,\n",
              " 166,\n",
              " 145,\n",
              " 127,\n",
              " 124,\n",
              " 124,\n",
              " 130,\n",
              " 196,\n",
              " 97,\n",
              " 115,\n",
              " 133,\n",
              " 139,\n",
              " 148,\n",
              " 109,\n",
              " 127,\n",
              " 175,\n",
              " 148,\n",
              " 136,\n",
              " 175,\n",
              " 151,\n",
              " 154,\n",
              " 133,\n",
              " 145,\n",
              " 115,\n",
              " 130,\n",
              " 121,\n",
              " 133,\n",
              " 142,\n",
              " 121,\n",
              " 136,\n",
              " 142,\n",
              " 136,\n",
              " 145,\n",
              " 127,\n",
              " 151,\n",
              " 136,\n",
              " 145,\n",
              " 166,\n",
              " 139,\n",
              " 151,\n",
              " 127,\n",
              " 136,\n",
              " 142,\n",
              " 118,\n",
              " 145,\n",
              " 127,\n",
              " 127,\n",
              " 118,\n",
              " 121,\n",
              " 121,\n",
              " 121,\n",
              " 106,\n",
              " 88,\n",
              " 136,\n",
              " 151,\n",
              " 133,\n",
              " 88,\n",
              " 142,\n",
              " 103,\n",
              " 124,\n",
              " 148,\n",
              " 151,\n",
              " 139,\n",
              " 157,\n",
              " 148,\n",
              " 154,\n",
              " 115,\n",
              " 115,\n",
              " 136,\n",
              " 133,\n",
              " 130,\n",
              " 136,\n",
              " 112,\n",
              " 115,\n",
              " 136,\n",
              " 109,\n",
              " 145,\n",
              " 133,\n",
              " 136,\n",
              " 112,\n",
              " 124,\n",
              " 115,\n",
              " 100,\n",
              " 118,\n",
              " 148,\n",
              " 118,\n",
              " 94,\n",
              " 145,\n",
              " 115,\n",
              " 136,\n",
              " 103,\n",
              " 172,\n",
              " 154,\n",
              " 151,\n",
              " 172,\n",
              " 124,\n",
              " 133,\n",
              " 181,\n",
              " 142,\n",
              " 136,\n",
              " 148,\n",
              " 136,\n",
              " 115,\n",
              " 103,\n",
              " 118,\n",
              " 121,\n",
              " 136,\n",
              " 130,\n",
              " 154,\n",
              " 115,\n",
              " 127,\n",
              " 130,\n",
              " 133,\n",
              " 130,\n",
              " 133,\n",
              " 136,\n",
              " 172,\n",
              " 157,\n",
              " 145,\n",
              " 133,\n",
              " 109,\n",
              " 154,\n",
              " 130,\n",
              " 142,\n",
              " 121,\n",
              " 118,\n",
              " 130,\n",
              " 127,\n",
              " 106,\n",
              " 133,\n",
              " 112,\n",
              " 118,\n",
              " 76,\n",
              " 118,\n",
              " 115,\n",
              " 163,\n",
              " 145,\n",
              " 154,\n",
              " 121,\n",
              " 127,\n",
              " 130,\n",
              " 148,\n",
              " 118,\n",
              " 115,\n",
              " 127,\n",
              " 121,\n",
              " 109,\n",
              " 118,\n",
              " 124,\n",
              " 145,\n",
              " 166,\n",
              " 142,\n",
              " 136,\n",
              " 130,\n",
              " 145,\n",
              " 142,\n",
              " 148,\n",
              " 106,\n",
              " 124,\n",
              " 106,\n",
              " 115,\n",
              " 115,\n",
              " 127,\n",
              " 124,\n",
              " 163,\n",
              " 139,\n",
              " 124,\n",
              " 106,\n",
              " 130,\n",
              " 106,\n",
              " 103,\n",
              " 121,\n",
              " 130,\n",
              " 127,\n",
              " 127,\n",
              " 121,\n",
              " 121,\n",
              " 127,\n",
              " 124,\n",
              " 136,\n",
              " 118,\n",
              " 127,\n",
              " 115,\n",
              " 124,\n",
              " 112,\n",
              " 115,\n",
              " 124,\n",
              " 121,\n",
              " 121,\n",
              " 133,\n",
              " 133,\n",
              " 103,\n",
              " 118,\n",
              " 124,\n",
              " 154,\n",
              " 109,\n",
              " 133,\n",
              " 145,\n",
              " 124,\n",
              " 115,\n",
              " 127,\n",
              " 115,\n",
              " 115,\n",
              " 103,\n",
              " 136,\n",
              " 118,\n",
              " 109,\n",
              " 124,\n",
              " 118,\n",
              " 127,\n",
              " 124,\n",
              " 124,\n",
              " 112,\n",
              " 115,\n",
              " 124,\n",
              " 109,\n",
              " 130,\n",
              " 112,\n",
              " 127,\n",
              " 121,\n",
              " 112,\n",
              " 142,\n",
              " 130,\n",
              " 127,\n",
              " 127,\n",
              " 130,\n",
              " 148,\n",
              " 100,\n",
              " 127,\n",
              " 118,\n",
              " 112,\n",
              " 112,\n",
              " 121,\n",
              " 118,\n",
              " 121,\n",
              " 121,\n",
              " 112,\n",
              " 121,\n",
              " 121,\n",
              " 100,\n",
              " 130,\n",
              " 127,\n",
              " 130,\n",
              " 127,\n",
              " 124,\n",
              " 127,\n",
              " 118,\n",
              " 106,\n",
              " 127,\n",
              " 103,\n",
              " 106,\n",
              " 109,\n",
              " 118,\n",
              " 151,\n",
              " 121,\n",
              " 100,\n",
              " 139,\n",
              " 118,\n",
              " 133,\n",
              " 127,\n",
              " 145,\n",
              " 127,\n",
              " 127,\n",
              " 106,\n",
              " 109,\n",
              " 97,\n",
              " 175,\n",
              " 118,\n",
              " 127,\n",
              " 145,\n",
              " 121,\n",
              " 136,\n",
              " 124,\n",
              " 175,\n",
              " 172,\n",
              " 172,\n",
              " 130,\n",
              " 130,\n",
              " 130,\n",
              " 127,\n",
              " 142,\n",
              " 121,\n",
              " 112,\n",
              " 145,\n",
              " 115,\n",
              " 133,\n",
              " 121,\n",
              " 109,\n",
              " 106,\n",
              " 136,\n",
              " 103,\n",
              " 130,\n",
              " 124,\n",
              " 124,\n",
              " 124,\n",
              " 130,\n",
              " 139,\n",
              " 145,\n",
              " 97,\n",
              " 133,\n",
              " 103,\n",
              " 115,\n",
              " 130,\n",
              " 106,\n",
              " 133,\n",
              " 124,\n",
              " 118,\n",
              " 118,\n",
              " 109,\n",
              " 124,\n",
              " 118,\n",
              " 160,\n",
              " 91,\n",
              " 118,\n",
              " 130,\n",
              " 112,\n",
              " 124,\n",
              " 190,\n",
              " 121,\n",
              " 115,\n",
              " 136,\n",
              " 175,\n",
              " 127,\n",
              " 130,\n",
              " 118,\n",
              " 109,\n",
              " 94,\n",
              " 157,\n",
              " 100,\n",
              " 106,\n",
              " 148,\n",
              " 130,\n",
              " 133,\n",
              " 109,\n",
              " 91,\n",
              " 97,\n",
              " 85,\n",
              " 97,\n",
              " 97,\n",
              " 118,\n",
              " 115,\n",
              " 130,\n",
              " 124,\n",
              " 109,\n",
              " 97,\n",
              " 109,\n",
              " 136,\n",
              " 166,\n",
              " 139,\n",
              " 130,\n",
              " 163,\n",
              " 136,\n",
              " 136,\n",
              " 94,\n",
              " 160,\n",
              " 118,\n",
              " 112,\n",
              " 124,\n",
              " 94,\n",
              " 100,\n",
              " 91,\n",
              " 88,\n",
              " 112,\n",
              " 130,\n",
              " 133,\n",
              " 112,\n",
              " 109,\n",
              " 112,\n",
              " 118,\n",
              " 154,\n",
              " 136,\n",
              " 142,\n",
              " 130,\n",
              " 148,\n",
              " 166,\n",
              " 121,\n",
              " 115,\n",
              " 115,\n",
              " 136,\n",
              " 130,\n",
              " 127,\n",
              " 124,\n",
              " 145,\n",
              " 139,\n",
              " 136,\n",
              " 136,\n",
              " 112,\n",
              " 142,\n",
              " 130,\n",
              " 112,\n",
              " 118,\n",
              " 133,\n",
              " 121,\n",
              " 118,\n",
              " 154,\n",
              " 133,\n",
              " 124,\n",
              " 124,\n",
              " 148,\n",
              " 97,\n",
              " 109,\n",
              " 106,\n",
              " 112,\n",
              " 127,\n",
              " 88,\n",
              " 103,\n",
              " 94,\n",
              " 124,\n",
              " 85,\n",
              " 142,\n",
              " 136,\n",
              " 142,\n",
              " 127,\n",
              " 115,\n",
              " 130,\n",
              " 124,\n",
              " 142,\n",
              " 124,\n",
              " 124,\n",
              " 124,\n",
              " 148,\n",
              " 136,\n",
              " 130,\n",
              " 148,\n",
              " 115,\n",
              " 124,\n",
              " 136,\n",
              " 118,\n",
              " 142,\n",
              " 127,\n",
              " 154,\n",
              " 121,\n",
              " 178,\n",
              " 127,\n",
              " 130,\n",
              " 136,\n",
              " 145,\n",
              " 133,\n",
              " 106,\n",
              " 169,\n",
              " 133,\n",
              " 154,\n",
              " 118,\n",
              " 106,\n",
              " 133,\n",
              " 130,\n",
              " 142,\n",
              " 130,\n",
              " 148,\n",
              " 133,\n",
              " 145,\n",
              " 121,\n",
              " 121,\n",
              " 133,\n",
              " 154,\n",
              " 163,\n",
              " 130,\n",
              " 151,\n",
              " 139,\n",
              " 124,\n",
              " 118,\n",
              " 136,\n",
              " 115,\n",
              " 145,\n",
              " 127,\n",
              " 124,\n",
              " 139,\n",
              " 160,\n",
              " 148,\n",
              " 121,\n",
              " 154,\n",
              " 127,\n",
              " 124,\n",
              " 145,\n",
              " 124,\n",
              " 127,\n",
              " 136,\n",
              " 124,\n",
              " 115,\n",
              " 118,\n",
              " 133,\n",
              " 118,\n",
              " 106,\n",
              " 127,\n",
              " 121,\n",
              " 130,\n",
              " 103,\n",
              " 130,\n",
              " 172,\n",
              " 136,\n",
              " 139,\n",
              " 130,\n",
              " 148,\n",
              " 145,\n",
              " 115,\n",
              " 130,\n",
              " 118,\n",
              " 148,\n",
              " 127,\n",
              " 142,\n",
              " 121,\n",
              " 136,\n",
              " 130,\n",
              " 118,\n",
              " 133,\n",
              " 127,\n",
              " 136,\n",
              " 145,\n",
              " 136,\n",
              " 136,\n",
              " 118,\n",
              " 136,\n",
              " 124,\n",
              " 127,\n",
              " 121,\n",
              " 151,\n",
              " 142,\n",
              " 133,\n",
              " 133,\n",
              " 139,\n",
              " 136,\n",
              " 148,\n",
              " 142,\n",
              " 142,\n",
              " 109,\n",
              " 124,\n",
              " 121,\n",
              " 121,\n",
              " 130,\n",
              " 142,\n",
              " 139,\n",
              " 148,\n",
              " 136,\n",
              " 139,\n",
              " 118,\n",
              " 145,\n",
              " 121,\n",
              " 130,\n",
              " 124,\n",
              " 121,\n",
              " 109,\n",
              " 130,\n",
              " 136,\n",
              " 148,\n",
              " 127,\n",
              " 130,\n",
              " 142,\n",
              " 178,\n",
              " 121,\n",
              " 127,\n",
              " 136,\n",
              " 151,\n",
              " 121,\n",
              " 115,\n",
              " 115,\n",
              " 148,\n",
              " 124,\n",
              " 112,\n",
              " 118,\n",
              " 130,\n",
              " 124,\n",
              " 136,\n",
              " 160,\n",
              " 133,\n",
              " 145,\n",
              " 133,\n",
              " 133,\n",
              " 133,\n",
              " 136,\n",
              " 136,\n",
              " 139,\n",
              " 136,\n",
              " 160,\n",
              " 124,\n",
              " 103,\n",
              " 124,\n",
              " 130,\n",
              " 112,\n",
              " 154,\n",
              " 139,\n",
              " 139,\n",
              " 124,\n",
              " 142,\n",
              " 121,\n",
              " 145,\n",
              " 124,\n",
              " 145,\n",
              " 142,\n",
              " 133,\n",
              " 118,\n",
              " 151,\n",
              " 142,\n",
              " 133,\n",
              " 154,\n",
              " 124,\n",
              " 163,\n",
              " 139,\n",
              " 178,\n",
              " 115,\n",
              " 136,\n",
              " 142,\n",
              " 142,\n",
              " 145,\n",
              " 154,\n",
              " 115,\n",
              " 118,\n",
              " 124,\n",
              " 121,\n",
              " 136,\n",
              " 127,\n",
              " 124,\n",
              " 127,\n",
              " 106,\n",
              " 121,\n",
              " 127,\n",
              " 136,\n",
              " 109,\n",
              " 112,\n",
              " 124,\n",
              " 103,\n",
              " 139,\n",
              " 115,\n",
              " 136,\n",
              " 106,\n",
              " 127,\n",
              " 121,\n",
              " 130,\n",
              " 136,\n",
              " 136,\n",
              " 124,\n",
              " 115,\n",
              " 124,\n",
              " 121,\n",
              " 136,\n",
              " 121,\n",
              " 142,\n",
              " 124,\n",
              " 133,\n",
              " 124,\n",
              " 130,\n",
              " 127,\n",
              " 109,\n",
              " 157,\n",
              " 133,\n",
              " 124,\n",
              " 130,\n",
              " 145,\n",
              " 127,\n",
              " 118,\n",
              " 130,\n",
              " 157,\n",
              " 142,\n",
              " 139,\n",
              " 124,\n",
              " 139,\n",
              " 139,\n",
              " 136,\n",
              " 160,\n",
              " 97,\n",
              " 139,\n",
              " 133,\n",
              " 136,\n",
              " 136,\n",
              " 139,\n",
              " 142,\n",
              " 127,\n",
              " 112,\n",
              " 118,\n",
              " 118,\n",
              " 115,\n",
              " 106,\n",
              " 97,\n",
              " 130,\n",
              " 115,\n",
              " 136,\n",
              " 127,\n",
              " 103,\n",
              " 106,\n",
              " 118,\n",
              " 136,\n",
              " 133,\n",
              " 115,\n",
              " 133,\n",
              " 124,\n",
              " 133,\n",
              " 133,\n",
              " 118,\n",
              " 157,\n",
              " 112,\n",
              " 142,\n",
              " 151,\n",
              " 154,\n",
              " 169,\n",
              " 136,\n",
              " 130,\n",
              " 142,\n",
              " 121,\n",
              " 121,\n",
              " 148,\n",
              " 136,\n",
              " 142,\n",
              " 127,\n",
              " 142,\n",
              " 127,\n",
              " 118,\n",
              " 148,\n",
              " 154,\n",
              " 154,\n",
              " 166,\n",
              " 118,\n",
              " 142,\n",
              " 154,\n",
              " 139,\n",
              " 124,\n",
              " 127,\n",
              " 145,\n",
              " 115,\n",
              " 109,\n",
              " 121,\n",
              " 106,\n",
              " 130,\n",
              " 106,\n",
              " 148,\n",
              " 139,\n",
              " 127,\n",
              " 112,\n",
              " 136,\n",
              " 142,\n",
              " 112,\n",
              " 133,\n",
              " 130,\n",
              " 112,\n",
              " 118,\n",
              " 121,\n",
              " 112,\n",
              " 136,\n",
              " 121,\n",
              " 127,\n",
              " 124,\n",
              " 124,\n",
              " 124,\n",
              " 124,\n",
              " 118,\n",
              " 130,\n",
              " 112,\n",
              " 115,\n",
              " 118,\n",
              " 154,\n",
              " 109,\n",
              " 112,\n",
              " 136,\n",
              " 121,\n",
              " 121,\n",
              " 139,\n",
              " 115,\n",
              " 133,\n",
              " 160,\n",
              " 127,\n",
              " 133,\n",
              " 142,\n",
              " 109,\n",
              " 139,\n",
              " 133,\n",
              " 121,\n",
              " 100,\n",
              " 130,\n",
              " 145,\n",
              " 130,\n",
              " 103,\n",
              " 118,\n",
              " 115,\n",
              " 94,\n",
              " 124,\n",
              " 133,\n",
              " 136,\n",
              " 121,\n",
              " 85,\n",
              " 121,\n",
              " 103,\n",
              " 139,\n",
              " 124,\n",
              " 61,\n",
              " 106,\n",
              " 121,\n",
              " 124,\n",
              " 127,\n",
              " 118,\n",
              " 130,\n",
              " 154,\n",
              " 142,\n",
              " 130,\n",
              " 124,\n",
              " 157,\n",
              " 124,\n",
              " 127,\n",
              " 133,\n",
              " 133,\n",
              " 130,\n",
              " 199,\n",
              " 127,\n",
              " 121,\n",
              " 127,\n",
              " 139,\n",
              " 121,\n",
              " 118,\n",
              " 124,\n",
              " 112,\n",
              " 160,\n",
              " 127,\n",
              " 139,\n",
              " 124,\n",
              " 118,\n",
              " 115,\n",
              " 127,\n",
              " 118,\n",
              " 115,\n",
              " 130,\n",
              " 160,\n",
              " 103,\n",
              " 151,\n",
              " 118,\n",
              " 109,\n",
              " 118,\n",
              " 103,\n",
              " 121,\n",
              " 130,\n",
              " 127,\n",
              " 121,\n",
              " 103,\n",
              " 130,\n",
              " ...]"
            ]
          },
          "metadata": {
            "tags": []
          },
          "execution_count": 37
        }
      ]
    },
    {
      "cell_type": "code",
      "metadata": {
        "id": "1C6ZFAnkBkic",
        "outputId": "0da8f8c4-4921-4c83-a06b-72986c86fe08"
      },
      "source": [
        "np.mean(dim1)"
      ],
      "execution_count": null,
      "outputs": [
        {
          "output_type": "execute_result",
          "data": {
            "text/plain": [
              "130.92538461538462"
            ]
          },
          "metadata": {
            "tags": []
          },
          "execution_count": 28
        }
      ]
    },
    {
      "cell_type": "code",
      "metadata": {
        "id": "wEn3tmxEBkid",
        "outputId": "d9532b87-ba12-4cf7-f423-1fdf0684d4a4"
      },
      "source": [
        "np.mean(dim2)"
      ],
      "execution_count": null,
      "outputs": [
        {
          "output_type": "execute_result",
          "data": {
            "text/plain": [
              "130.75"
            ]
          },
          "metadata": {
            "tags": []
          },
          "execution_count": 29
        }
      ]
    },
    {
      "cell_type": "code",
      "metadata": {
        "id": "JxYl-XoJBkie"
      },
      "source": [
        "image_shape = (130,130,3)"
      ],
      "execution_count": null,
      "outputs": []
    },
    {
      "cell_type": "markdown",
      "metadata": {
        "id": "4DMk8K61Bkig"
      },
      "source": [
        "## Preparing the Data for the model\n",
        "\n",
        "There is too much data for us to read all at once in memory. We can use some built in functions in Keras to automatically process the data, generate a flow of batches from a directory, and also manipulate the images.\n",
        "\n",
        "### Image Manipulation\n",
        "\n",
        "Its usually a good idea to manipulate the images with rotation, resizing, and scaling so the model becomes more robust to different images that our data set doesn't have. We can use the **ImageDataGenerator** to do this automatically for us."
      ]
    },
    {
      "cell_type": "markdown",
      "metadata": {
        "id": "tWOzwQcjBkih"
      },
      "source": [
        "**in MNIST dasaset we had 28*28= 784, in CIFAR dataset we had 32*32*3= 3072, but in current example we are dealing with 130*130*3= 50700 and we can fit the model in one time. we need to use batches to spilit the dataset for training.**"
      ]
    },
    {
      "cell_type": "code",
      "metadata": {
        "id": "0U-pnxyfBkih"
      },
      "source": [
        "from tensorflow.keras.preprocessing.image import ImageDataGenerator"
      ],
      "execution_count": null,
      "outputs": []
    },
    {
      "cell_type": "code",
      "metadata": {
        "id": "n4OIzY6NBkii",
        "outputId": "d2331bc5-9b0d-4372-ab22-7936c1faa08d"
      },
      "source": [
        "help(ImageDataGenerator)"
      ],
      "execution_count": null,
      "outputs": [
        {
          "output_type": "stream",
          "text": [
            "Help on class ImageDataGenerator in module tensorflow.python.keras.preprocessing.image:\n",
            "\n",
            "class ImageDataGenerator(keras_preprocessing.image.image_data_generator.ImageDataGenerator)\n",
            " |  ImageDataGenerator(featurewise_center=False, samplewise_center=False, featurewise_std_normalization=False, samplewise_std_normalization=False, zca_whitening=False, zca_epsilon=1e-06, rotation_range=0, width_shift_range=0.0, height_shift_range=0.0, brightness_range=None, shear_range=0.0, zoom_range=0.0, channel_shift_range=0.0, fill_mode='nearest', cval=0.0, horizontal_flip=False, vertical_flip=False, rescale=None, preprocessing_function=None, data_format=None, validation_split=0.0, dtype=None)\n",
            " |  \n",
            " |  Generate batches of tensor image data with real-time data augmentation.\n",
            " |  \n",
            " |   The data will be looped over (in batches).\n",
            " |  \n",
            " |  Arguments:\n",
            " |      featurewise_center: Boolean.\n",
            " |          Set input mean to 0 over the dataset, feature-wise.\n",
            " |      samplewise_center: Boolean. Set each sample mean to 0.\n",
            " |      featurewise_std_normalization: Boolean.\n",
            " |          Divide inputs by std of the dataset, feature-wise.\n",
            " |      samplewise_std_normalization: Boolean. Divide each input by its std.\n",
            " |      zca_epsilon: epsilon for ZCA whitening. Default is 1e-6.\n",
            " |      zca_whitening: Boolean. Apply ZCA whitening.\n",
            " |      rotation_range: Int. Degree range for random rotations.\n",
            " |      width_shift_range: Float, 1-D array-like or int\n",
            " |          - float: fraction of total width, if < 1, or pixels if >= 1.\n",
            " |          - 1-D array-like: random elements from the array.\n",
            " |          - int: integer number of pixels from interval\n",
            " |              `(-width_shift_range, +width_shift_range)`\n",
            " |          - With `width_shift_range=2` possible values\n",
            " |              are integers `[-1, 0, +1]`,\n",
            " |              same as with `width_shift_range=[-1, 0, +1]`,\n",
            " |              while with `width_shift_range=1.0` possible values are floats\n",
            " |              in the interval [-1.0, +1.0).\n",
            " |      height_shift_range: Float, 1-D array-like or int\n",
            " |          - float: fraction of total height, if < 1, or pixels if >= 1.\n",
            " |          - 1-D array-like: random elements from the array.\n",
            " |          - int: integer number of pixels from interval\n",
            " |              `(-height_shift_range, +height_shift_range)`\n",
            " |          - With `height_shift_range=2` possible values\n",
            " |              are integers `[-1, 0, +1]`,\n",
            " |              same as with `height_shift_range=[-1, 0, +1]`,\n",
            " |              while with `height_shift_range=1.0` possible values are floats\n",
            " |              in the interval [-1.0, +1.0).\n",
            " |      brightness_range: Tuple or list of two floats. Range for picking\n",
            " |          a brightness shift value from.\n",
            " |      shear_range: Float. Shear Intensity\n",
            " |          (Shear angle in counter-clockwise direction in degrees)\n",
            " |      zoom_range: Float or [lower, upper]. Range for random zoom.\n",
            " |          If a float, `[lower, upper] = [1-zoom_range, 1+zoom_range]`.\n",
            " |      channel_shift_range: Float. Range for random channel shifts.\n",
            " |      fill_mode: One of {\"constant\", \"nearest\", \"reflect\" or \"wrap\"}.\n",
            " |          Default is 'nearest'.\n",
            " |          Points outside the boundaries of the input are filled\n",
            " |          according to the given mode:\n",
            " |          - 'constant': kkkkkkkk|abcd|kkkkkkkk (cval=k)\n",
            " |          - 'nearest':  aaaaaaaa|abcd|dddddddd\n",
            " |          - 'reflect':  abcddcba|abcd|dcbaabcd\n",
            " |          - 'wrap':  abcdabcd|abcd|abcdabcd\n",
            " |      cval: Float or Int.\n",
            " |          Value used for points outside the boundaries\n",
            " |          when `fill_mode = \"constant\"`.\n",
            " |      horizontal_flip: Boolean. Randomly flip inputs horizontally.\n",
            " |      vertical_flip: Boolean. Randomly flip inputs vertically.\n",
            " |      rescale: rescaling factor. Defaults to None.\n",
            " |          If None or 0, no rescaling is applied,\n",
            " |          otherwise we multiply the data by the value provided\n",
            " |          (after applying all other transformations).\n",
            " |      preprocessing_function: function that will be applied on each input.\n",
            " |          The function will run after the image is resized and augmented.\n",
            " |          The function should take one argument:\n",
            " |          one image (Numpy tensor with rank 3),\n",
            " |          and should output a Numpy tensor with the same shape.\n",
            " |      data_format: Image data format,\n",
            " |          either \"channels_first\" or \"channels_last\".\n",
            " |          \"channels_last\" mode means that the images should have shape\n",
            " |          `(samples, height, width, channels)`,\n",
            " |          \"channels_first\" mode means that the images should have shape\n",
            " |          `(samples, channels, height, width)`.\n",
            " |          It defaults to the `image_data_format` value found in your\n",
            " |          Keras config file at `~/.keras/keras.json`.\n",
            " |          If you never set it, then it will be \"channels_last\".\n",
            " |      validation_split: Float. Fraction of images reserved for validation\n",
            " |          (strictly between 0 and 1).\n",
            " |      dtype: Dtype to use for the generated arrays.\n",
            " |  \n",
            " |  Examples:\n",
            " |  \n",
            " |  Example of using `.flow(x, y)`:\n",
            " |  \n",
            " |  ```python\n",
            " |  (x_train, y_train), (x_test, y_test) = cifar10.load_data()\n",
            " |  y_train = np_utils.to_categorical(y_train, num_classes)\n",
            " |  y_test = np_utils.to_categorical(y_test, num_classes)\n",
            " |  datagen = ImageDataGenerator(\n",
            " |      featurewise_center=True,\n",
            " |      featurewise_std_normalization=True,\n",
            " |      rotation_range=20,\n",
            " |      width_shift_range=0.2,\n",
            " |      height_shift_range=0.2,\n",
            " |      horizontal_flip=True)\n",
            " |  # compute quantities required for featurewise normalization\n",
            " |  # (std, mean, and principal components if ZCA whitening is applied)\n",
            " |  datagen.fit(x_train)\n",
            " |  # fits the model on batches with real-time data augmentation:\n",
            " |  model.fit(datagen.flow(x_train, y_train, batch_size=32),\n",
            " |            steps_per_epoch=len(x_train) / 32, epochs=epochs)\n",
            " |  # here's a more \"manual\" example\n",
            " |  for e in range(epochs):\n",
            " |      print('Epoch', e)\n",
            " |      batches = 0\n",
            " |      for x_batch, y_batch in datagen.flow(x_train, y_train, batch_size=32):\n",
            " |          model.fit(x_batch, y_batch)\n",
            " |          batches += 1\n",
            " |          if batches >= len(x_train) / 32:\n",
            " |              # we need to break the loop by hand because\n",
            " |              # the generator loops indefinitely\n",
            " |              break\n",
            " |  ```\n",
            " |  \n",
            " |  Example of using `.flow_from_directory(directory)`:\n",
            " |  \n",
            " |  ```python\n",
            " |  train_datagen = ImageDataGenerator(\n",
            " |          rescale=1./255,\n",
            " |          shear_range=0.2,\n",
            " |          zoom_range=0.2,\n",
            " |          horizontal_flip=True)\n",
            " |  test_datagen = ImageDataGenerator(rescale=1./255)\n",
            " |  train_generator = train_datagen.flow_from_directory(\n",
            " |          'data/train',\n",
            " |          target_size=(150, 150),\n",
            " |          batch_size=32,\n",
            " |          class_mode='binary')\n",
            " |  validation_generator = test_datagen.flow_from_directory(\n",
            " |          'data/validation',\n",
            " |          target_size=(150, 150),\n",
            " |          batch_size=32,\n",
            " |          class_mode='binary')\n",
            " |  model.fit(\n",
            " |          train_generator,\n",
            " |          steps_per_epoch=2000,\n",
            " |          epochs=50,\n",
            " |          validation_data=validation_generator,\n",
            " |          validation_steps=800)\n",
            " |  ```\n",
            " |  \n",
            " |  Example of transforming images and masks together.\n",
            " |  \n",
            " |  ```python\n",
            " |  # we create two instances with the same arguments\n",
            " |  data_gen_args = dict(featurewise_center=True,\n",
            " |                       featurewise_std_normalization=True,\n",
            " |                       rotation_range=90,\n",
            " |                       width_shift_range=0.1,\n",
            " |                       height_shift_range=0.1,\n",
            " |                       zoom_range=0.2)\n",
            " |  image_datagen = ImageDataGenerator(**data_gen_args)\n",
            " |  mask_datagen = ImageDataGenerator(**data_gen_args)\n",
            " |  # Provide the same seed and keyword arguments to the fit and flow methods\n",
            " |  seed = 1\n",
            " |  image_datagen.fit(images, augment=True, seed=seed)\n",
            " |  mask_datagen.fit(masks, augment=True, seed=seed)\n",
            " |  image_generator = image_datagen.flow_from_directory(\n",
            " |      'data/images',\n",
            " |      class_mode=None,\n",
            " |      seed=seed)\n",
            " |  mask_generator = mask_datagen.flow_from_directory(\n",
            " |      'data/masks',\n",
            " |      class_mode=None,\n",
            " |      seed=seed)\n",
            " |  # combine generators into one which yields image and masks\n",
            " |  train_generator = zip(image_generator, mask_generator)\n",
            " |  model.fit_generator(\n",
            " |      train_generator,\n",
            " |      steps_per_epoch=2000,\n",
            " |      epochs=50)\n",
            " |  ```\n",
            " |  \n",
            " |  Method resolution order:\n",
            " |      ImageDataGenerator\n",
            " |      keras_preprocessing.image.image_data_generator.ImageDataGenerator\n",
            " |      builtins.object\n",
            " |  \n",
            " |  Methods defined here:\n",
            " |  \n",
            " |  __init__(self, featurewise_center=False, samplewise_center=False, featurewise_std_normalization=False, samplewise_std_normalization=False, zca_whitening=False, zca_epsilon=1e-06, rotation_range=0, width_shift_range=0.0, height_shift_range=0.0, brightness_range=None, shear_range=0.0, zoom_range=0.0, channel_shift_range=0.0, fill_mode='nearest', cval=0.0, horizontal_flip=False, vertical_flip=False, rescale=None, preprocessing_function=None, data_format=None, validation_split=0.0, dtype=None)\n",
            " |      Initialize self.  See help(type(self)) for accurate signature.\n",
            " |  \n",
            " |  flow(self, x, y=None, batch_size=32, shuffle=True, sample_weight=None, seed=None, save_to_dir=None, save_prefix='', save_format='png', subset=None)\n",
            " |      Takes data & label arrays, generates batches of augmented data.\n",
            " |      \n",
            " |      Arguments:\n",
            " |          x: Input data. Numpy array of rank 4 or a tuple. If tuple, the first\n",
            " |            element should contain the images and the second element another numpy\n",
            " |            array or a list of numpy arrays that gets passed to the output without\n",
            " |            any modifications. Can be used to feed the model miscellaneous data\n",
            " |            along with the images. In case of grayscale data, the channels axis of\n",
            " |            the image array should have value 1, in case of RGB data, it should\n",
            " |            have value 3, and in case of RGBA data, it should have value 4.\n",
            " |          y: Labels.\n",
            " |          batch_size: Int (default: 32).\n",
            " |          shuffle: Boolean (default: True).\n",
            " |          sample_weight: Sample weights.\n",
            " |          seed: Int (default: None).\n",
            " |          save_to_dir: None or str (default: None). This allows you to optionally\n",
            " |            specify a directory to which to save the augmented pictures being\n",
            " |            generated (useful for visualizing what you are doing).\n",
            " |          save_prefix: Str (default: `''`). Prefix to use for filenames of saved\n",
            " |            pictures (only relevant if `save_to_dir` is set).\n",
            " |          save_format: one of \"png\", \"jpeg\"\n",
            " |              (only relevant if `save_to_dir` is set). Default: \"png\".\n",
            " |          subset: Subset of data (`\"training\"` or `\"validation\"`) if\n",
            " |            `validation_split` is set in `ImageDataGenerator`.\n",
            " |      \n",
            " |      Returns:\n",
            " |          An `Iterator` yielding tuples of `(x, y)`\n",
            " |              where `x` is a numpy array of image data\n",
            " |              (in the case of a single image input) or a list\n",
            " |              of numpy arrays (in the case with\n",
            " |              additional inputs) and `y` is a numpy array\n",
            " |              of corresponding labels. If 'sample_weight' is not None,\n",
            " |              the yielded tuples are of the form `(x, y, sample_weight)`.\n",
            " |              If `y` is None, only the numpy array `x` is returned.\n",
            " |  \n",
            " |  flow_from_dataframe(self, dataframe, directory=None, x_col='filename', y_col='class', weight_col=None, target_size=(256, 256), color_mode='rgb', classes=None, class_mode='categorical', batch_size=32, shuffle=True, seed=None, save_to_dir=None, save_prefix='', save_format='png', subset=None, interpolation='nearest', validate_filenames=True, **kwargs)\n",
            " |      Takes the dataframe and the path to a directory + generates batches.\n",
            " |      \n",
            " |       The generated batches contain augmented/normalized data.\n",
            " |      \n",
            " |      **A simple tutorial can be found **[here](\n",
            " |                                  http://bit.ly/keras_flow_from_dataframe).\n",
            " |      \n",
            " |      Arguments:\n",
            " |          dataframe: Pandas dataframe containing the filepaths relative to\n",
            " |            `directory` (or absolute paths if `directory` is None) of the images\n",
            " |            in a string column. It should include other column/s\n",
            " |              depending on the `class_mode`: - if `class_mode` is `\"categorical\"`\n",
            " |                (default value) it must include the `y_col` column with the\n",
            " |                class/es of each image. Values in column can be string/list/tuple\n",
            " |                if a single class or list/tuple if multiple classes. - if\n",
            " |                `class_mode` is `\"binary\"` or `\"sparse\"` it must include the given\n",
            " |                `y_col` column with class values as strings. - if `class_mode` is\n",
            " |                `\"raw\"` or `\"multi_output\"` it should contain the columns\n",
            " |                specified in `y_col`. - if `class_mode` is `\"input\"` or `None` no\n",
            " |                extra column is needed.\n",
            " |          directory: string, path to the directory to read images from. If `None`,\n",
            " |            data in `x_col` column should be absolute paths.\n",
            " |          x_col: string, column in `dataframe` that contains the filenames (or\n",
            " |            absolute paths if `directory` is `None`).\n",
            " |          y_col: string or list, column/s in `dataframe` that has the target data.\n",
            " |          weight_col: string, column in `dataframe` that contains the sample\n",
            " |              weights. Default: `None`.\n",
            " |          target_size: tuple of integers `(height, width)`, default: `(256, 256)`.\n",
            " |            The dimensions to which all images found will be resized.\n",
            " |          color_mode: one of \"grayscale\", \"rgb\", \"rgba\". Default: \"rgb\". Whether\n",
            " |            the images will be converted to have 1 or 3 color channels.\n",
            " |          classes: optional list of classes (e.g. `['dogs', 'cats']`). Default is\n",
            " |            None. If not provided, the list of classes will be automatically\n",
            " |            inferred from the `y_col`, which will map to the label indices, will\n",
            " |            be alphanumeric). The dictionary containing the mapping from class\n",
            " |            names to class indices can be obtained via the attribute\n",
            " |            `class_indices`.\n",
            " |          class_mode: one of \"binary\", \"categorical\", \"input\", \"multi_output\",\n",
            " |              \"raw\", sparse\" or None. Default: \"categorical\".\n",
            " |              Mode for yielding the targets:\n",
            " |              - `\"binary\"`: 1D numpy array of binary labels,\n",
            " |              - `\"categorical\"`: 2D numpy array of one-hot encoded labels.\n",
            " |                Supports multi-label output.\n",
            " |              - `\"input\"`: images identical to input images (mainly used to work\n",
            " |                with autoencoders),\n",
            " |              - `\"multi_output\"`: list with the values of the different columns,\n",
            " |              - `\"raw\"`: numpy array of values in `y_col` column(s),\n",
            " |              - `\"sparse\"`: 1D numpy array of integer labels, - `None`, no targets\n",
            " |                are returned (the generator will only yield batches of image data,\n",
            " |                which is useful to use in `model.predict_generator()`).\n",
            " |          batch_size: size of the batches of data (default: 32).\n",
            " |          shuffle: whether to shuffle the data (default: True)\n",
            " |          seed: optional random seed for shuffling and transformations.\n",
            " |          save_to_dir: None or str (default: None). This allows you to optionally\n",
            " |            specify a directory to which to save the augmented pictures being\n",
            " |            generated (useful for visualizing what you are doing).\n",
            " |          save_prefix: str. Prefix to use for filenames of saved pictures (only\n",
            " |            relevant if `save_to_dir` is set).\n",
            " |          save_format: one of \"png\", \"jpeg\"\n",
            " |              (only relevant if `save_to_dir` is set). Default: \"png\".\n",
            " |          subset: Subset of data (`\"training\"` or `\"validation\"`) if\n",
            " |            `validation_split` is set in `ImageDataGenerator`.\n",
            " |          interpolation: Interpolation method used to resample the image if the\n",
            " |            target size is different from that of the loaded image. Supported\n",
            " |            methods are `\"nearest\"`, `\"bilinear\"`, and `\"bicubic\"`. If PIL version\n",
            " |            1.1.3 or newer is installed, `\"lanczos\"` is also supported. If PIL\n",
            " |            version 3.4.0 or newer is installed, `\"box\"` and `\"hamming\"` are also\n",
            " |            supported. By default, `\"nearest\"` is used.\n",
            " |          validate_filenames: Boolean, whether to validate image filenames in\n",
            " |            `x_col`. If `True`, invalid images will be ignored. Disabling this\n",
            " |            option can lead to speed-up in the execution of this function.\n",
            " |            Defaults to `True`.\n",
            " |          **kwargs: legacy arguments for raising deprecation warnings.\n",
            " |      \n",
            " |      Returns:\n",
            " |          A `DataFrameIterator` yielding tuples of `(x, y)`\n",
            " |          where `x` is a numpy array containing a batch\n",
            " |          of images with shape `(batch_size, *target_size, channels)`\n",
            " |          and `y` is a numpy array of corresponding labels.\n",
            " |  \n",
            " |  flow_from_directory(self, directory, target_size=(256, 256), color_mode='rgb', classes=None, class_mode='categorical', batch_size=32, shuffle=True, seed=None, save_to_dir=None, save_prefix='', save_format='png', follow_links=False, subset=None, interpolation='nearest')\n",
            " |      Takes the path to a directory & generates batches of augmented data.\n",
            " |      \n",
            " |      Arguments:\n",
            " |          directory: string, path to the target directory. It should contain one\n",
            " |            subdirectory per class. Any PNG, JPG, BMP, PPM or TIF images inside\n",
            " |            each of the subdirectories directory tree will be included in the\n",
            " |            generator. See [this script](\n",
            " |              https://gist.github.com/fchollet/0830affa1f7f19fd47b06d4cf89ed44d)\n",
            " |                for more details.\n",
            " |          target_size: Tuple of integers `(height, width)`, defaults to `(256,\n",
            " |            256)`. The dimensions to which all images found will be resized.\n",
            " |          color_mode: One of \"grayscale\", \"rgb\", \"rgba\". Default: \"rgb\". Whether\n",
            " |            the images will be converted to have 1, 3, or 4 channels.\n",
            " |          classes: Optional list of class subdirectories\n",
            " |              (e.g. `['dogs', 'cats']`). Default: None. If not provided, the list\n",
            " |                of classes will be automatically inferred from the subdirectory\n",
            " |                names/structure under `directory`, where each subdirectory will be\n",
            " |                treated as a different class (and the order of the classes, which\n",
            " |                will map to the label indices, will be alphanumeric). The\n",
            " |                dictionary containing the mapping from class names to class\n",
            " |                indices can be obtained via the attribute `class_indices`.\n",
            " |          class_mode: One of \"categorical\", \"binary\", \"sparse\",\n",
            " |              \"input\", or None. Default: \"categorical\".\n",
            " |              Determines the type of label arrays that are returned: -\n",
            " |                \"categorical\" will be 2D one-hot encoded labels, - \"binary\" will\n",
            " |                be 1D binary labels, \"sparse\" will be 1D integer labels, - \"input\"\n",
            " |                will be images identical to input images (mainly used to work with\n",
            " |                autoencoders). - If None, no labels are returned (the generator\n",
            " |                will only yield batches of image data, which is useful to use with\n",
            " |                `model.predict_generator()`). Please note that in case of\n",
            " |                class_mode None, the data still needs to reside in a subdirectory\n",
            " |                of `directory` for it to work correctly.\n",
            " |          batch_size: Size of the batches of data (default: 32).\n",
            " |          shuffle: Whether to shuffle the data (default: True) If set to False,\n",
            " |            sorts the data in alphanumeric order.\n",
            " |          seed: Optional random seed for shuffling and transformations.\n",
            " |          save_to_dir: None or str (default: None). This allows you to optionally\n",
            " |            specify a directory to which to save the augmented pictures being\n",
            " |            generated (useful for visualizing what you are doing).\n",
            " |          save_prefix: Str. Prefix to use for filenames of saved pictures (only\n",
            " |            relevant if `save_to_dir` is set).\n",
            " |          save_format: One of \"png\", \"jpeg\"\n",
            " |              (only relevant if `save_to_dir` is set). Default: \"png\".\n",
            " |          follow_links: Whether to follow symlinks inside\n",
            " |              class subdirectories (default: False).\n",
            " |          subset: Subset of data (`\"training\"` or `\"validation\"`) if\n",
            " |            `validation_split` is set in `ImageDataGenerator`.\n",
            " |          interpolation: Interpolation method used to resample the image if the\n",
            " |            target size is different from that of the loaded image. Supported\n",
            " |            methods are `\"nearest\"`, `\"bilinear\"`, and `\"bicubic\"`. If PIL version\n",
            " |            1.1.3 or newer is installed, `\"lanczos\"` is also supported. If PIL\n",
            " |            version 3.4.0 or newer is installed, `\"box\"` and `\"hamming\"` are also\n",
            " |            supported. By default, `\"nearest\"` is used.\n",
            " |      \n",
            " |      Returns:\n",
            " |          A `DirectoryIterator` yielding tuples of `(x, y)`\n",
            " |              where `x` is a numpy array containing a batch\n",
            " |              of images with shape `(batch_size, *target_size, channels)`\n",
            " |              and `y` is a numpy array of corresponding labels.\n",
            " |  \n",
            " |  ----------------------------------------------------------------------\n",
            " |  Methods inherited from keras_preprocessing.image.image_data_generator.ImageDataGenerator:\n",
            " |  \n",
            " |  apply_transform(self, x, transform_parameters)\n",
            " |      Applies a transformation to an image according to given parameters.\n",
            " |      \n",
            " |      # Arguments\n",
            " |          x: 3D tensor, single image.\n",
            " |          transform_parameters: Dictionary with string - parameter pairs\n",
            " |              describing the transformation.\n",
            " |              Currently, the following parameters\n",
            " |              from the dictionary are used:\n",
            " |              - `'theta'`: Float. Rotation angle in degrees.\n",
            " |              - `'tx'`: Float. Shift in the x direction.\n",
            " |              - `'ty'`: Float. Shift in the y direction.\n",
            " |              - `'shear'`: Float. Shear angle in degrees.\n",
            " |              - `'zx'`: Float. Zoom in the x direction.\n",
            " |              - `'zy'`: Float. Zoom in the y direction.\n",
            " |              - `'flip_horizontal'`: Boolean. Horizontal flip.\n",
            " |              - `'flip_vertical'`: Boolean. Vertical flip.\n",
            " |              - `'channel_shift_intensity'`: Float. Channel shift intensity.\n",
            " |              - `'brightness'`: Float. Brightness shift intensity.\n",
            " |      \n",
            " |      # Returns\n",
            " |          A transformed version of the input (same shape).\n",
            " |  \n",
            " |  fit(self, x, augment=False, rounds=1, seed=None)\n",
            " |      Fits the data generator to some sample data.\n",
            " |      \n",
            " |      This computes the internal data stats related to the\n",
            " |      data-dependent transformations, based on an array of sample data.\n",
            " |      \n",
            " |      Only required if `featurewise_center` or\n",
            " |      `featurewise_std_normalization` or `zca_whitening` are set to True.\n",
            " |      \n",
            " |      When `rescale` is set to a value, rescaling is applied to\n",
            " |      sample data before computing the internal data stats.\n",
            " |      \n",
            " |      # Arguments\n",
            " |          x: Sample data. Should have rank 4.\n",
            " |           In case of grayscale data,\n",
            " |           the channels axis should have value 1, in case\n",
            " |           of RGB data, it should have value 3, and in case\n",
            " |           of RGBA data, it should have value 4.\n",
            " |          augment: Boolean (default: False).\n",
            " |              Whether to fit on randomly augmented samples.\n",
            " |          rounds: Int (default: 1).\n",
            " |              If using data augmentation (`augment=True`),\n",
            " |              this is how many augmentation passes over the data to use.\n",
            " |          seed: Int (default: None). Random seed.\n",
            " |  \n",
            " |  get_random_transform(self, img_shape, seed=None)\n",
            " |      Generates random parameters for a transformation.\n",
            " |      \n",
            " |      # Arguments\n",
            " |          seed: Random seed.\n",
            " |          img_shape: Tuple of integers.\n",
            " |              Shape of the image that is transformed.\n",
            " |      \n",
            " |      # Returns\n",
            " |          A dictionary containing randomly chosen parameters describing the\n",
            " |          transformation.\n",
            " |  \n",
            " |  random_transform(self, x, seed=None)\n",
            " |      Applies a random transformation to an image.\n",
            " |      \n",
            " |      # Arguments\n",
            " |          x: 3D tensor, single image.\n",
            " |          seed: Random seed.\n",
            " |      \n",
            " |      # Returns\n",
            " |          A randomly transformed version of the input (same shape).\n",
            " |  \n",
            " |  standardize(self, x)\n",
            " |      Applies the normalization configuration in-place to a batch of inputs.\n",
            " |      \n",
            " |      `x` is changed in-place since the function is mainly used internally\n",
            " |      to standardize images and feed them to your network. If a copy of `x`\n",
            " |      would be created instead it would have a significant performance cost.\n",
            " |      If you want to apply this method without changing the input in-place\n",
            " |      you can call the method creating a copy before:\n",
            " |      \n",
            " |      standardize(np.copy(x))\n",
            " |      \n",
            " |      # Arguments\n",
            " |          x: Batch of inputs to be normalized.\n",
            " |      \n",
            " |      # Returns\n",
            " |          The inputs, normalized.\n",
            " |  \n",
            " |  ----------------------------------------------------------------------\n",
            " |  Data descriptors inherited from keras_preprocessing.image.image_data_generator.ImageDataGenerator:\n",
            " |  \n",
            " |  __dict__\n",
            " |      dictionary for instance variables (if defined)\n",
            " |  \n",
            " |  __weakref__\n",
            " |      list of weak references to the object (if defined)\n",
            "\n"
          ],
          "name": "stdout"
        }
      ]
    },
    {
      "cell_type": "code",
      "metadata": {
        "id": "Z20mfNS9Bkii"
      },
      "source": [
        "#we dont need to normalize the dataset because its already normilized"
      ],
      "execution_count": null,
      "outputs": []
    },
    {
      "cell_type": "code",
      "metadata": {
        "id": "-YEEYD9gBkij",
        "outputId": "42b39d3d-73f7-4c0f-ddf8-67c2d7982795"
      },
      "source": [
        "imread(para_cell).max()"
      ],
      "execution_count": null,
      "outputs": [
        {
          "output_type": "execute_result",
          "data": {
            "text/plain": [
              "0.9098039"
            ]
          },
          "metadata": {
            "tags": []
          },
          "execution_count": 43
        }
      ]
    },
    {
      "cell_type": "code",
      "metadata": {
        "id": "9NvD405hBkij"
      },
      "source": [
        "image_gen = ImageDataGenerator(rotation_range=20, # rotate the image 20 degrees\n",
        "                               width_shift_range=0.10, # Shift the pic width by a max of 10%\n",
        "                               height_shift_range=0.10, # Shift the pic height by a max of 10%\n",
        "                               #rescale=1/255, # Rescale the image by normalzing it.\n",
        "                               shear_range=0.1, # Shear means cutting away part of the image (max 10%)\n",
        "                               zoom_range=0.1, # Zoom in by 10% max\n",
        "                               horizontal_flip=True, # Allo horizontal flipping\n",
        "                               fill_mode='nearest' # Fill in missing pixels with the nearest filled value\n",
        "                              )"
      ],
      "execution_count": null,
      "outputs": []
    },
    {
      "cell_type": "code",
      "metadata": {
        "id": "7rTWe1jQBkik",
        "outputId": "b63a41a4-4eea-4754-9988-62d69e2520db"
      },
      "source": [
        "plt.imshow(para_img)"
      ],
      "execution_count": null,
      "outputs": [
        {
          "output_type": "execute_result",
          "data": {
            "text/plain": [
              "<matplotlib.image.AxesImage at 0x13074d43828>"
            ]
          },
          "metadata": {
            "tags": []
          },
          "execution_count": 45
        },
        {
          "output_type": "display_data",
          "data": {
            "image/png": "[encoded data removed]",
            "text/plain": [
              "<Figure size 432x288 with 1 Axes>"
            ]
          },
          "metadata": {
            "tags": [],
            "needs_background": "light"
          }
        }
      ]
    },
    {
      "cell_type": "code",
      "metadata": {
        "id": "TBda8RRtBkik",
        "outputId": "60ae0c65-04d9-43dc-a1b9-523dbd34df75"
      },
      "source": [
        "plt.imshow(image_gen.random_transform(para_img))"
      ],
      "execution_count": null,
      "outputs": [
        {
          "output_type": "execute_result",
          "data": {
            "text/plain": [
              "<matplotlib.image.AxesImage at 0x13074db35f8>"
            ]
          },
          "metadata": {
            "tags": []
          },
          "execution_count": 46
        },
        {
          "output_type": "display_data",
          "data": {
            "image/png": "[encoded data removed]",
            "text/plain": [
              "<Figure size 432x288 with 1 Axes>"
            ]
          },
          "metadata": {
            "tags": [],
            "needs_background": "light"
          }
        }
      ]
    },
    {
      "cell_type": "code",
      "metadata": {
        "id": "kQvQPsb8Bkil",
        "outputId": "fb1d463a-6fee-4e6b-f220-6a5a0594428d"
      },
      "source": [
        "plt.imshow(image_gen.random_transform(para_img))"
      ],
      "execution_count": null,
      "outputs": [
        {
          "output_type": "execute_result",
          "data": {
            "text/plain": [
              "<matplotlib.image.AxesImage at 0x13074e125f8>"
            ]
          },
          "metadata": {
            "tags": []
          },
          "execution_count": 47
        },
        {
          "output_type": "display_data",
          "data": {
            "image/png": "[encoded data removed]",
            "text/plain": [
              "<Figure size 432x288 with 1 Axes>"
            ]
          },
          "metadata": {
            "tags": [],
            "needs_background": "light"
          }
        }
      ]
    },
    {
      "cell_type": "markdown",
      "metadata": {
        "id": "As409kSYBkil"
      },
      "source": [
        "### Generating many manipulated images from a directory\n",
        "\n",
        "\n",
        "In order to use .flow_from_directory, you must organize the images in sub-directories. This is an absolute requirement, otherwise the method won't work. The directories should only contain images of one class, so one folder per class of images.\n",
        "\n",
        "Structure Needed:\n",
        "\n",
        "* Image Data Folder\n",
        "    * Class 1\n",
        "        * 0.jpg\n",
        "        * 1.jpg\n",
        "        * ...\n",
        "    * Class 2\n",
        "        * 0.jpg\n",
        "        * 1.jpg\n",
        "        * ...\n",
        "    * ...\n",
        "    * Class n"
      ]
    },
    {
      "cell_type": "code",
      "metadata": {
        "id": "oBaqRZdYBkim",
        "outputId": "3ed0f641-10c8-497e-dd4c-6ae27d09f083"
      },
      "source": [
        "image_gen.flow_from_directory(train_path)"
      ],
      "execution_count": null,
      "outputs": [
        {
          "output_type": "stream",
          "text": [
            "Found 24958 images belonging to 2 classes.\n"
          ],
          "name": "stdout"
        },
        {
          "output_type": "execute_result",
          "data": {
            "text/plain": [
              "<tensorflow.python.keras.preprocessing.image.DirectoryIterator at 0x13074cde358>"
            ]
          },
          "metadata": {
            "tags": []
          },
          "execution_count": 48
        }
      ]
    },
    {
      "cell_type": "code",
      "metadata": {
        "id": "BfozP8-bBkim",
        "outputId": "d4393433-4efe-4bca-af6b-c0e243650a9b"
      },
      "source": [
        "image_gen.flow_from_directory(test_path)"
      ],
      "execution_count": null,
      "outputs": [
        {
          "output_type": "stream",
          "text": [
            "Found 2574 images belonging to 2 classes.\n"
          ],
          "name": "stdout"
        },
        {
          "output_type": "execute_result",
          "data": {
            "text/plain": [
              "<tensorflow.python.keras.preprocessing.image.DirectoryIterator at 0x13074dc5cf8>"
            ]
          },
          "metadata": {
            "tags": []
          },
          "execution_count": 49
        }
      ]
    },
    {
      "cell_type": "markdown",
      "metadata": {
        "id": "oLy6PFw3Bkin"
      },
      "source": [
        "# Creating the Model"
      ]
    },
    {
      "cell_type": "code",
      "metadata": {
        "id": "zql2-e_PBkin"
      },
      "source": [
        "from tensorflow.keras.models import Sequential\n",
        "from tensorflow.keras.layers import Activation, Dropout, Flatten, Dense, Conv2D, MaxPooling2D"
      ],
      "execution_count": null,
      "outputs": []
    },
    {
      "cell_type": "code",
      "metadata": {
        "id": "2JPIVOs-Bkin"
      },
      "source": [
        "#https://stats.stackexchange.com/questions/148139/rules-for-selecting-convolutional-neural-network-hyperparameters\n",
        "model = Sequential()\n",
        "\n",
        "model.add(Conv2D(filters=32, kernel_size=(3,3),input_shape=image_shape, activation='relu',))\n",
        "model.add(MaxPooling2D(pool_size=(2, 2)))\n",
        "\n",
        "model.add(Conv2D(filters=64, kernel_size=(3,3),input_shape=image_shape, activation='relu',))\n",
        "model.add(MaxPooling2D(pool_size=(2, 2)))\n",
        "\n",
        "model.add(Conv2D(filters=64, kernel_size=(3,3),input_shape=image_shape, activation='relu',))\n",
        "model.add(MaxPooling2D(pool_size=(2, 2)))\n",
        "\n",
        "\n",
        "model.add(Flatten())\n",
        "\n",
        "\n",
        "model.add(Dense(128))\n",
        "model.add(Activation('relu'))\n",
        "\n",
        "# Dropouts help reduce overfitting by randomly turning neurons off during training.\n",
        "# Here we say randomly turn off 50% of neurons.\n",
        "model.add(Dropout(0.5))\n",
        "\n",
        "# Last layer, remember its binary so we use sigmoid\n",
        "model.add(Dense(1))\n",
        "model.add(Activation('sigmoid'))\n",
        "\n",
        "model.compile(loss='binary_crossentropy',\n",
        "              optimizer='adam',\n",
        "              metrics=['accuracy'])"
      ],
      "execution_count": null,
      "outputs": []
    },
    {
      "cell_type": "code",
      "metadata": {
        "id": "Ry8BBPyVBkio",
        "outputId": "87155785-bf41-4439-bfc3-5882cfb1458d"
      },
      "source": [
        "model.summary()"
      ],
      "execution_count": null,
      "outputs": [
        {
          "output_type": "stream",
          "text": [
            "Model: \"sequential\"\n",
            "_________________________________________________________________\n",
            "Layer (type)                 Output Shape              Param #   \n",
            "=================================================================\n",
            "conv2d (Conv2D)              (None, 128, 128, 32)      896       \n",
            "_________________________________________________________________\n",
            "max_pooling2d (MaxPooling2D) (None, 64, 64, 32)        0         \n",
            "_________________________________________________________________\n",
            "conv2d_1 (Conv2D)            (None, 62, 62, 64)        18496     \n",
            "_________________________________________________________________\n",
            "max_pooling2d_1 (MaxPooling2 (None, 31, 31, 64)        0         \n",
            "_________________________________________________________________\n",
            "conv2d_2 (Conv2D)            (None, 29, 29, 64)        36928     \n",
            "_________________________________________________________________\n",
            "max_pooling2d_2 (MaxPooling2 (None, 14, 14, 64)        0         \n",
            "_________________________________________________________________\n",
            "flatten (Flatten)            (None, 12544)             0         \n",
            "_________________________________________________________________\n",
            "dense (Dense)                (None, 128)               1605760   \n",
            "_________________________________________________________________\n",
            "activation (Activation)      (None, 128)               0         \n",
            "_________________________________________________________________\n",
            "dropout (Dropout)            (None, 128)               0         \n",
            "_________________________________________________________________\n",
            "dense_1 (Dense)              (None, 1)                 129       \n",
            "_________________________________________________________________\n",
            "activation_1 (Activation)    (None, 1)                 0         \n",
            "=================================================================\n",
            "Total params: 1,662,209\n",
            "Trainable params: 1,662,209\n",
            "Non-trainable params: 0\n",
            "_________________________________________________________________\n"
          ],
          "name": "stdout"
        }
      ]
    },
    {
      "cell_type": "markdown",
      "metadata": {
        "id": "AD9yOjUVBkio"
      },
      "source": [
        "## Early Stopping"
      ]
    },
    {
      "cell_type": "code",
      "metadata": {
        "id": "64usJ8VzBkip"
      },
      "source": [
        "from tensorflow.keras.callbacks import EarlyStopping"
      ],
      "execution_count": null,
      "outputs": []
    },
    {
      "cell_type": "code",
      "metadata": {
        "id": "JTJ3UpNkBkip"
      },
      "source": [
        "early_stop = EarlyStopping(monitor='val_loss',patience=2)"
      ],
      "execution_count": null,
      "outputs": []
    },
    {
      "cell_type": "markdown",
      "metadata": {
        "id": "FQKda84RBkip"
      },
      "source": [
        "## Training the Model"
      ]
    },
    {
      "cell_type": "code",
      "metadata": {
        "id": "As4M_bhCBkip",
        "outputId": "be568b05-d973-43b8-8ccc-66cd45ecd607"
      },
      "source": [
        "help(image_gen.flow_from_directory)"
      ],
      "execution_count": null,
      "outputs": [
        {
          "output_type": "stream",
          "text": [
            "Help on method flow_from_directory in module tensorflow.python.keras.preprocessing.image:\n",
            "\n",
            "flow_from_directory(directory, target_size=(256, 256), color_mode='rgb', classes=None, class_mode='categorical', batch_size=32, shuffle=True, seed=None, save_to_dir=None, save_prefix='', save_format='png', follow_links=False, subset=None, interpolation='nearest') method of tensorflow.python.keras.preprocessing.image.ImageDataGenerator instance\n",
            "    Takes the path to a directory & generates batches of augmented data.\n",
            "    \n",
            "    Arguments:\n",
            "        directory: string, path to the target directory. It should contain one\n",
            "          subdirectory per class. Any PNG, JPG, BMP, PPM or TIF images inside\n",
            "          each of the subdirectories directory tree will be included in the\n",
            "          generator. See [this script](\n",
            "            https://gist.github.com/fchollet/0830affa1f7f19fd47b06d4cf89ed44d)\n",
            "              for more details.\n",
            "        target_size: Tuple of integers `(height, width)`, defaults to `(256,\n",
            "          256)`. The dimensions to which all images found will be resized.\n",
            "        color_mode: One of \"grayscale\", \"rgb\", \"rgba\". Default: \"rgb\". Whether\n",
            "          the images will be converted to have 1, 3, or 4 channels.\n",
            "        classes: Optional list of class subdirectories\n",
            "            (e.g. `['dogs', 'cats']`). Default: None. If not provided, the list\n",
            "              of classes will be automatically inferred from the subdirectory\n",
            "              names/structure under `directory`, where each subdirectory will be\n",
            "              treated as a different class (and the order of the classes, which\n",
            "              will map to the label indices, will be alphanumeric). The\n",
            "              dictionary containing the mapping from class names to class\n",
            "              indices can be obtained via the attribute `class_indices`.\n",
            "        class_mode: One of \"categorical\", \"binary\", \"sparse\",\n",
            "            \"input\", or None. Default: \"categorical\".\n",
            "            Determines the type of label arrays that are returned: -\n",
            "              \"categorical\" will be 2D one-hot encoded labels, - \"binary\" will\n",
            "              be 1D binary labels, \"sparse\" will be 1D integer labels, - \"input\"\n",
            "              will be images identical to input images (mainly used to work with\n",
            "              autoencoders). - If None, no labels are returned (the generator\n",
            "              will only yield batches of image data, which is useful to use with\n",
            "              `model.predict_generator()`). Please note that in case of\n",
            "              class_mode None, the data still needs to reside in a subdirectory\n",
            "              of `directory` for it to work correctly.\n",
            "        batch_size: Size of the batches of data (default: 32).\n",
            "        shuffle: Whether to shuffle the data (default: True) If set to False,\n",
            "          sorts the data in alphanumeric order.\n",
            "        seed: Optional random seed for shuffling and transformations.\n",
            "        save_to_dir: None or str (default: None). This allows you to optionally\n",
            "          specify a directory to which to save the augmented pictures being\n",
            "          generated (useful for visualizing what you are doing).\n",
            "        save_prefix: Str. Prefix to use for filenames of saved pictures (only\n",
            "          relevant if `save_to_dir` is set).\n",
            "        save_format: One of \"png\", \"jpeg\"\n",
            "            (only relevant if `save_to_dir` is set). Default: \"png\".\n",
            "        follow_links: Whether to follow symlinks inside\n",
            "            class subdirectories (default: False).\n",
            "        subset: Subset of data (`\"training\"` or `\"validation\"`) if\n",
            "          `validation_split` is set in `ImageDataGenerator`.\n",
            "        interpolation: Interpolation method used to resample the image if the\n",
            "          target size is different from that of the loaded image. Supported\n",
            "          methods are `\"nearest\"`, `\"bilinear\"`, and `\"bicubic\"`. If PIL version\n",
            "          1.1.3 or newer is installed, `\"lanczos\"` is also supported. If PIL\n",
            "          version 3.4.0 or newer is installed, `\"box\"` and `\"hamming\"` are also\n",
            "          supported. By default, `\"nearest\"` is used.\n",
            "    \n",
            "    Returns:\n",
            "        A `DirectoryIterator` yielding tuples of `(x, y)`\n",
            "            where `x` is a numpy array containing a batch\n",
            "            of images with shape `(batch_size, *target_size, channels)`\n",
            "            and `y` is a numpy array of corresponding labels.\n",
            "\n"
          ],
          "name": "stdout"
        }
      ]
    },
    {
      "cell_type": "code",
      "metadata": {
        "id": "5-VAORMiBkiq"
      },
      "source": [
        "batch_size = 16"
      ],
      "execution_count": null,
      "outputs": []
    },
    {
      "cell_type": "code",
      "metadata": {
        "id": "vf2xZ70YBkiq",
        "outputId": "d8a27b32-0c54-4cf5-e108-21f792965ce7"
      },
      "source": [
        "train_image_gen = image_gen.flow_from_directory(train_path,\n",
        "                                               target_size=image_shape[:2],\n",
        "                                                color_mode='rgb',\n",
        "                                               batch_size=batch_size,\n",
        "                                               class_mode='binary')"
      ],
      "execution_count": null,
      "outputs": [
        {
          "output_type": "stream",
          "text": [
            "Found 24958 images belonging to 2 classes.\n"
          ],
          "name": "stdout"
        }
      ]
    },
    {
      "cell_type": "code",
      "metadata": {
        "id": "vKGq9U54Bkir",
        "outputId": "22579c4e-6027-4fe7-dff5-283934ef967b"
      },
      "source": [
        "test_image_gen = image_gen.flow_from_directory(test_path,\n",
        "                                               target_size=image_shape[:2],\n",
        "                                               color_mode='rgb',\n",
        "                                               batch_size=batch_size,\n",
        "                                               class_mode='binary',shuffle=False)"
      ],
      "execution_count": null,
      "outputs": [
        {
          "output_type": "stream",
          "text": [
            "Found 2574 images belonging to 2 classes.\n"
          ],
          "name": "stdout"
        }
      ]
    },
    {
      "cell_type": "code",
      "metadata": {
        "id": "QBExQyXsBkis",
        "outputId": "bbc28951-1bed-40c8-c64f-912ab852557b"
      },
      "source": [
        "train_image_gen.class_indices"
      ],
      "execution_count": null,
      "outputs": [
        {
          "output_type": "execute_result",
          "data": {
            "text/plain": [
              "{'parasitized': 0, 'uninfected': 1}"
            ]
          },
          "metadata": {
            "tags": []
          },
          "execution_count": 60
        }
      ]
    },
    {
      "cell_type": "code",
      "metadata": {
        "id": "k7hVrgnCBkit"
      },
      "source": [
        "import warnings\n",
        "warnings.filterwarnings('ignore')"
      ],
      "execution_count": null,
      "outputs": []
    },
    {
      "cell_type": "code",
      "metadata": {
        "scrolled": true,
        "id": "u_Ffr8mrBkiu"
      },
      "source": [
        "#results = model.fit_generator(train_image_gen,epochs=20,\n",
        "                             # validation_data=test_image_gen,\n",
        "                             #callbacks=[early_stop])"
      ],
      "execution_count": null,
      "outputs": []
    },
    {
      "cell_type": "code",
      "metadata": {
        "id": "YJ3F-iqjBkiw"
      },
      "source": [
        "#from tensorflow.keras.models import load_model\n",
        "#model.save('malaria_detector.h5')"
      ],
      "execution_count": null,
      "outputs": []
    },
    {
      "cell_type": "markdown",
      "metadata": {
        "id": "MQmquurIBkiw"
      },
      "source": [
        "# Evaluating the Model"
      ]
    },
    {
      "cell_type": "code",
      "metadata": {
        "id": "SczNUiAjBkix"
      },
      "source": [
        "from tensorflow.keras.models import load_model"
      ],
      "execution_count": null,
      "outputs": []
    },
    {
      "cell_type": "code",
      "metadata": {
        "id": "eVWXujMxBkix"
      },
      "source": [
        "model = load_model('malaria_detector.h5')"
      ],
      "execution_count": null,
      "outputs": []
    },
    {
      "cell_type": "code",
      "metadata": {
        "id": "JEfB__aUBkjK",
        "outputId": "61918a34-24ce-4dcc-e2a8-4dc342795b33"
      },
      "source": [
        "#model.metrics_names"
      ],
      "execution_count": null,
      "outputs": [
        {
          "output_type": "execute_result",
          "data": {
            "text/plain": [
              "['loss', 'accuracy']"
            ]
          },
          "metadata": {
            "tags": []
          },
          "execution_count": 65
        }
      ]
    },
    {
      "cell_type": "code",
      "metadata": {
        "id": "dsrW33utBkjL",
        "outputId": "d79a6134-c0ad-4665-8dae-25325a545b1d"
      },
      "source": [
        "model.evaluate_generator(test_image_gen)"
      ],
      "execution_count": null,
      "outputs": [
        {
          "output_type": "stream",
          "text": [
            "WARNING:tensorflow:From <ipython-input-67-31acfd80dad9>:1: Model.evaluate_generator (from tensorflow.python.keras.engine.training) is deprecated and will be removed in a future version.\n",
            "Instructions for updating:\n",
            "Please use Model.evaluate, which supports generators.\n"
          ],
          "name": "stdout"
        },
        {
          "output_type": "execute_result",
          "data": {
            "text/plain": [
              "[36.75750732421875, 0.8714063763618469]"
            ]
          },
          "metadata": {
            "tags": []
          },
          "execution_count": 67
        }
      ]
    },
    {
      "cell_type": "code",
      "metadata": {
        "id": "XBpUQtXZBkjM"
      },
      "source": [
        "from tensorflow.keras.preprocessing import image"
      ],
      "execution_count": null,
      "outputs": []
    },
    {
      "cell_type": "code",
      "metadata": {
        "id": "jFqwCIuoBkjM",
        "outputId": "36ba4a5c-796a-462b-da83-bf9978b87749"
      },
      "source": [
        "# https://datascience.stackexchange.com/questions/13894/how-to-get-predictions-with-predict-generator-on-streaming-test-data-in-keras\n",
        "pred_probabilities = model.predict_generator(test_image_gen)"
      ],
      "execution_count": null,
      "outputs": [
        {
          "output_type": "stream",
          "text": [
            "WARNING:tensorflow:From <ipython-input-69-f14b427af105>:2: Model.predict_generator (from tensorflow.python.keras.engine.training) is deprecated and will be removed in a future version.\n",
            "Instructions for updating:\n",
            "Please use Model.predict, which supports generators.\n"
          ],
          "name": "stdout"
        }
      ]
    },
    {
      "cell_type": "code",
      "metadata": {
        "id": "IW_o9sOTBkjN",
        "outputId": "9425dcab-b0e4-482d-e367-a9fb59688e05"
      },
      "source": [
        "pred_probabilities"
      ],
      "execution_count": null,
      "outputs": [
        {
          "output_type": "execute_result",
          "data": {
            "text/plain": [
              "array([[0.],\n",
              "       [0.],\n",
              "       [0.],\n",
              "       ...,\n",
              "       [1.],\n",
              "       [0.],\n",
              "       [0.]], dtype=float32)"
            ]
          },
          "metadata": {
            "tags": []
          },
          "execution_count": 70
        }
      ]
    },
    {
      "cell_type": "code",
      "metadata": {
        "id": "qwW7kJM5BkjT",
        "outputId": "e5b21217-5193-4aaf-b84d-3a1c17ea5660"
      },
      "source": [
        "test_image_gen.classes"
      ],
      "execution_count": null,
      "outputs": [
        {
          "output_type": "execute_result",
          "data": {
            "text/plain": [
              "array([0, 0, 0, ..., 1, 1, 1])"
            ]
          },
          "metadata": {
            "tags": []
          },
          "execution_count": 71
        }
      ]
    },
    {
      "cell_type": "code",
      "metadata": {
        "id": "yyqbY8nvBkjb"
      },
      "source": [
        "predictions = pred_probabilities > 0.50"
      ],
      "execution_count": null,
      "outputs": []
    },
    {
      "cell_type": "code",
      "metadata": {
        "id": "pmKfBt72Bkjc",
        "outputId": "7a565157-5e8b-4192-a978-e250c23fdb70"
      },
      "source": [
        "# Numpy can treat this as True/False for us\n",
        "predictions"
      ],
      "execution_count": null,
      "outputs": [
        {
          "output_type": "execute_result",
          "data": {
            "text/plain": [
              "array([[False],\n",
              "       [False],\n",
              "       [False],\n",
              "       ...,\n",
              "       [ True],\n",
              "       [False],\n",
              "       [False]])"
            ]
          },
          "metadata": {
            "tags": []
          },
          "execution_count": 88
        }
      ]
    },
    {
      "cell_type": "code",
      "metadata": {
        "id": "aP4W2_fIBkjd"
      },
      "source": [
        "from sklearn.metrics import classification_report,confusion_matrix"
      ],
      "execution_count": null,
      "outputs": []
    },
    {
      "cell_type": "code",
      "metadata": {
        "id": "NfAExhqjBkjd",
        "outputId": "2d4d9c94-cf90-4295-f5ff-4cb397dfa6ba"
      },
      "source": [
        "print(classification_report(test_image_gen.classes,predictions))"
      ],
      "execution_count": null,
      "outputs": [
        {
          "output_type": "stream",
          "text": [
            "              precision    recall  f1-score   support\n",
            "\n",
            "           0       0.80      0.98      0.88      1274\n",
            "           1       0.97      0.76      0.85      1300\n",
            "\n",
            "    accuracy                           0.87      2574\n",
            "   macro avg       0.89      0.87      0.87      2574\n",
            "weighted avg       0.89      0.87      0.87      2574\n",
            "\n"
          ],
          "name": "stdout"
        }
      ]
    },
    {
      "cell_type": "code",
      "metadata": {
        "id": "EXDGOUnnBkje",
        "outputId": "ddd6949d-b7dc-4629-9493-9d1daec4823a"
      },
      "source": [
        "confusion_matrix(test_image_gen.classes,predictions)"
      ],
      "execution_count": null,
      "outputs": [
        {
          "output_type": "execute_result",
          "data": {
            "text/plain": [
              "array([[1245,   29],\n",
              "       [ 308,  992]], dtype=int64)"
            ]
          },
          "metadata": {
            "tags": []
          },
          "execution_count": 86
        }
      ]
    },
    {
      "cell_type": "markdown",
      "metadata": {
        "id": "uNX2GMLBBkjf"
      },
      "source": [
        "# Predicting on an Image"
      ]
    },
    {
      "cell_type": "code",
      "metadata": {
        "id": "n3kh_nJ4Bkjf",
        "outputId": "151fe576-1b48-43ba-9011-fad403754d8e"
      },
      "source": [
        "# Your file path will be different!\n",
        "from tensorflow.keras.preprocessing import image\n",
        "para_cell"
      ],
      "execution_count": null,
      "outputs": [
        {
          "output_type": "execute_result",
          "data": {
            "text/plain": [
              "'C:/Users/Amir/Desktop/AI Institute Classes/Deep Learning/TF_2_Notebooks_and_Data/04-CNNs/cell_images\\\\train\\\\\\\\parasitized\\\\C100P61ThinF_IMG_20150918_144104_cell_162.png'"
            ]
          },
          "metadata": {
            "tags": []
          },
          "execution_count": 102
        }
      ]
    },
    {
      "cell_type": "code",
      "metadata": {
        "id": "eC_Vms_jBkjg"
      },
      "source": [
        "my_image = image.load_img(para_cell,target_size=image_shape)"
      ],
      "execution_count": null,
      "outputs": []
    },
    {
      "cell_type": "code",
      "metadata": {
        "id": "2A0vqUF9Bkjj",
        "outputId": "6b6619c6-ed84-4d11-9e9d-86ea54efa612"
      },
      "source": [
        "my_image"
      ],
      "execution_count": null,
      "outputs": [
        {
          "output_type": "execute_result",
          "data": {
            "image/png": "[encoded data removed]",
            "text/plain": [
              "<PIL.Image.Image image mode=RGB size=130x130 at 0x1300015B5C0>"
            ]
          },
          "metadata": {
            "tags": []
          },
          "execution_count": 104
        }
      ]
    },
    {
      "cell_type": "code",
      "metadata": {
        "id": "zsesajl9Bkjk",
        "outputId": "27eefb79-06eb-46b6-e11e-e987c00e3fb7"
      },
      "source": [
        "type(my_image)"
      ],
      "execution_count": null,
      "outputs": [
        {
          "output_type": "execute_result",
          "data": {
            "text/plain": [
              "PIL.Image.Image"
            ]
          },
          "metadata": {
            "tags": []
          },
          "execution_count": 105
        }
      ]
    },
    {
      "cell_type": "code",
      "metadata": {
        "id": "GUMLz8MaBkjl"
      },
      "source": [
        "my_image = image.img_to_array(my_image)"
      ],
      "execution_count": null,
      "outputs": []
    },
    {
      "cell_type": "code",
      "metadata": {
        "id": "EorVUizWBkjr",
        "outputId": "31b276e9-b996-4654-c450-1274010bb143"
      },
      "source": [
        "type(my_image)"
      ],
      "execution_count": null,
      "outputs": [
        {
          "output_type": "execute_result",
          "data": {
            "text/plain": [
              "numpy.ndarray"
            ]
          },
          "metadata": {
            "tags": []
          },
          "execution_count": 107
        }
      ]
    },
    {
      "cell_type": "code",
      "metadata": {
        "id": "McYRVQtaBkjs",
        "outputId": "094a04e3-7403-489c-c4a0-f7958dd3c9fb"
      },
      "source": [
        "my_image.shape #it should be (1,130,130,3) we have to expand the array"
      ],
      "execution_count": null,
      "outputs": [
        {
          "output_type": "execute_result",
          "data": {
            "text/plain": [
              "(130, 130, 3)"
            ]
          },
          "metadata": {
            "tags": []
          },
          "execution_count": 108
        }
      ]
    },
    {
      "cell_type": "code",
      "metadata": {
        "id": "WTSvfNVoBkjt"
      },
      "source": [
        "my_image = np.expand_dims(my_image, axis=0)"
      ],
      "execution_count": null,
      "outputs": []
    },
    {
      "cell_type": "code",
      "metadata": {
        "id": "j9fEsz8NBkjt",
        "outputId": "fb73832a-8f72-4d79-9661-fed9b76dd3be"
      },
      "source": [
        "my_image.shape"
      ],
      "execution_count": null,
      "outputs": [
        {
          "output_type": "execute_result",
          "data": {
            "text/plain": [
              "(1, 130, 130, 3)"
            ]
          },
          "metadata": {
            "tags": []
          },
          "execution_count": 110
        }
      ]
    },
    {
      "cell_type": "code",
      "metadata": {
        "id": "leF2dBD5Bkju",
        "outputId": "c6082eca-ba69-4d3d-cc99-c658e1c379b7"
      },
      "source": [
        "model.predict(my_image)"
      ],
      "execution_count": null,
      "outputs": [
        {
          "output_type": "execute_result",
          "data": {
            "text/plain": [
              "array([[0.]], dtype=float32)"
            ]
          },
          "metadata": {
            "tags": []
          },
          "execution_count": 111
        }
      ]
    },
    {
      "cell_type": "code",
      "metadata": {
        "id": "qquTVYzfBkjv",
        "outputId": "a719627f-58c8-48cf-8b6a-d5de8d7bf45b"
      },
      "source": [
        "train_image_gen.class_indices"
      ],
      "execution_count": null,
      "outputs": [
        {
          "output_type": "execute_result",
          "data": {
            "text/plain": [
              "{'parasitized': 0, 'uninfected': 1}"
            ]
          },
          "metadata": {
            "tags": []
          },
          "execution_count": 112
        }
      ]
    },
    {
      "cell_type": "code",
      "metadata": {
        "id": "7fZgrUl4Bkjv",
        "outputId": "ce99c343-9c73-461e-f451-581e2652cbf6"
      },
      "source": [
        "test_image_gen.class_indices"
      ],
      "execution_count": null,
      "outputs": [
        {
          "output_type": "execute_result",
          "data": {
            "text/plain": [
              "{'parasitized': 0, 'uninfected': 1}"
            ]
          },
          "metadata": {
            "tags": []
          },
          "execution_count": 113
        }
      ]
    },
    {
      "cell_type": "markdown",
      "metadata": {
        "id": "Jn70_P45Bkjx"
      },
      "source": [
        "# Great Job!"
      ]
    }
  ]
}
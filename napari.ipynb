{
 "cells": [
  {
   "cell_type": "code",
   "execution_count": 19,
   "id": "b888b3fa",
   "metadata": {},
   "outputs": [],
   "source": [
    "image = '../projects/out/dataset6_CLINIC_0090_data/dataset6_CLINIC_0090_data_seg.nii.gz'"
   ]
  },
  {
   "cell_type": "code",
   "execution_count": 20,
   "id": "d8b53947",
   "metadata": {},
   "outputs": [
    {
     "ename": "AttributeError",
     "evalue": "'str' object has no attribute 'shape'",
     "output_type": "error",
     "traceback": [
      "\u001b[1;31m---------------------------------------------------------------------------\u001b[0m",
      "\u001b[1;31mAttributeError\u001b[0m                            Traceback (most recent call last)",
      "Input \u001b[1;32mIn [20]\u001b[0m, in \u001b[0;36m<cell line: 4>\u001b[1;34m()\u001b[0m\n\u001b[0;32m      1\u001b[0m \u001b[38;5;28;01mimport\u001b[39;00m \u001b[38;5;21;01mnapari\u001b[39;00m\n\u001b[0;32m      3\u001b[0m \u001b[38;5;66;03m# assuming image is ordered CZYX\u001b[39;00m\n\u001b[1;32m----> 4\u001b[0m label_image_shape \u001b[38;5;241m=\u001b[39m \u001b[43mimage\u001b[49m\u001b[38;5;241;43m.\u001b[39;49m\u001b[43mshape\u001b[49m[\u001b[38;5;241m1\u001b[39m:\u001b[38;5;241m4\u001b[39m]\n\u001b[0;32m      5\u001b[0m label_image \u001b[38;5;241m=\u001b[39m np\u001b[38;5;241m.\u001b[39mzeros_like(label_image_shape, dtype\u001b[38;5;241m=\u001b[39m\u001b[38;5;28mint\u001b[39m)\n\u001b[0;32m      7\u001b[0m \u001b[38;5;28;01mfor\u001b[39;00m label_index, channel_image \u001b[38;5;129;01min\u001b[39;00m \u001b[38;5;28menumerate\u001b[39m(image):\n",
      "\u001b[1;31mAttributeError\u001b[0m: 'str' object has no attribute 'shape'"
     ]
    }
   ],
   "source": [
    "import napari\n",
    "\n",
    "# assuming image is ordered CZYX\n",
    "label_image_shape = image.shape[1:4]\n",
    "label_image = np.zeros_like(label_image_shape, dtype=int)\n",
    "\n",
    "for label_index, channel_image in enumerate(image):\n",
    "    if label_index == 0:\n",
    "       # skip the background channel\n",
    "        pass\n",
    "    label_image[channel_image.astype(bool)] = label_index\n",
    "\n",
    "\n",
    "# make the viewer\n",
    "viewer = napari.Viewer()\n",
    "viewer.add_labels(label_image)\n",
    "\n",
    "# call napari.run() if running from a script\n",
    "napari.run()"
   ]
  },
  {
   "cell_type": "code",
   "execution_count": 21,
   "id": "b7c487a3",
   "metadata": {},
   "outputs": [
    {
     "name": "stdout",
     "output_type": "stream",
     "text": [
      "Images Array Shape:  (5, 350, 512, 512)\n",
      "0.0 1.0\n"
     ]
    }
   ],
   "source": [
    "import SimpleITK as sitk\n",
    "import numpy as np\n",
    "\n",
    "flair_file = '../projects/out/dataset6_CLINIC_0090_data/dataset6_CLINIC_0090_data_seg.nii.gz'\n",
    "images = sitk.ReadImage(flair_file)\n",
    "image = sitk.GetArrayFromImage(images)\n",
    "\n",
    "print(\"Images Array Shape: \", image.shape)\n",
    "print(np.amin(image),np.amax(image))\n"
   ]
  },
  {
   "cell_type": "code",
   "execution_count": 22,
   "id": "2fdb055c",
   "metadata": {},
   "outputs": [
    {
     "ename": "IndexError",
     "evalue": "too many indices for array: array is 1-dimensional, but 3 were indexed",
     "output_type": "error",
     "traceback": [
      "\u001b[1;31m---------------------------------------------------------------------------\u001b[0m",
      "\u001b[1;31mIndexError\u001b[0m                                Traceback (most recent call last)",
      "Input \u001b[1;32mIn [22]\u001b[0m, in \u001b[0;36m<cell line: 5>\u001b[1;34m()\u001b[0m\n\u001b[0;32m      6\u001b[0m     \u001b[38;5;28;01mif\u001b[39;00m label_index \u001b[38;5;241m==\u001b[39m \u001b[38;5;241m0\u001b[39m:\n\u001b[0;32m      7\u001b[0m        \u001b[38;5;66;03m# skip the background channel\u001b[39;00m\n\u001b[0;32m      8\u001b[0m         \u001b[38;5;28;01mpass\u001b[39;00m\n\u001b[1;32m----> 9\u001b[0m     label_image[channel_image\u001b[38;5;241m.\u001b[39mastype(\u001b[38;5;28mbool\u001b[39m)] \u001b[38;5;241m=\u001b[39m label_index\n\u001b[0;32m     12\u001b[0m \u001b[38;5;66;03m# make the viewer\u001b[39;00m\n\u001b[0;32m     13\u001b[0m viewer \u001b[38;5;241m=\u001b[39m napari\u001b[38;5;241m.\u001b[39mViewer()\n",
      "\u001b[1;31mIndexError\u001b[0m: too many indices for array: array is 1-dimensional, but 3 were indexed"
     ]
    }
   ],
   "source": [
    "# assuming image is ordered CZYX\n",
    "label_image_shape = image.shape[1:4]\n",
    "label_image = np.zeros_like(label_image_shape, dtype=int)\n",
    "\n",
    "for label_index, channel_image in enumerate(image):\n",
    "    if label_index == 0:\n",
    "       # skip the background channel\n",
    "        pass\n",
    "    label_image[channel_image.astype(bool)] = label_index\n",
    "\n",
    "\n",
    "# make the viewer\n",
    "viewer = napari.Viewer()\n",
    "viewer.add_labels(label_image)\n",
    "\n",
    "# call napari.run() if running from a script\n",
    "napari.run()"
   ]
  },
  {
   "cell_type": "code",
   "execution_count": null,
   "id": "422dbb2a",
   "metadata": {},
   "outputs": [],
   "source": []
  }
 ],
 "metadata": {
  "kernelspec": {
   "display_name": "Python 3 (ipykernel)",
   "language": "python",
   "name": "python3"
  },
  "language_info": {
   "codemirror_mode": {
    "name": "ipython",
    "version": 3
   },
   "file_extension": ".py",
   "mimetype": "text/x-python",
   "name": "python",
   "nbconvert_exporter": "python",
   "pygments_lexer": "ipython3",
   "version": "3.9.7"
  }
 },
 "nbformat": 4,
 "nbformat_minor": 5
}
